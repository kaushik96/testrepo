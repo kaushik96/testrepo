{
 "cells": [
  {
   "cell_type": "markdown",
   "id": "3916b9ae-1f9a-47cf-a24b-9e55a53abcd5",
   "metadata": {},
   "source": [
    "# My Jupyter Notebook on IBM Watson Studio"
   ]
  },
  {
   "cell_type": "markdown",
   "id": "ff426a49-b9a9-4525-8b01-cd0418c1203c",
   "metadata": {},
   "source": [
    "I am Kaushik. My current occupation is 'Senior business analyst' and my desired occupation 'Data Scientist'. I am interested in data-science due to curiosity, I want to find hidden stories behind data which stay unheard."
   ]
  },
  {
   "cell_type": "markdown",
   "id": "6d7d1f14-b941-4360-821f-fd346ac92c5e",
   "metadata": {},
   "source": [
    "## Data Science Languages"
   ]
  },
  {
   "cell_type": "markdown",
   "id": "53adeb13-00fa-410c-8078-8fa7706f3fd5",
   "metadata": {},
   "source": [
    "- Python\n",
    "- R\n",
    "- SQL\n",
    "- MATLAB\n",
    "- SAS\n",
    "- Julia\n",
    "- Scala\n",
    "- JavaScript (for web-based data visualization)\n",
    "- C++ (for performance-critical tasks)"
   ]
  },
  {
   "cell_type": "markdown",
   "id": "8bbd5047-8fb2-436d-a9b9-5d9b1760c8c5",
   "metadata": {},
   "source": [
    "## Data Science Libraries"
   ]
  },
  {
   "cell_type": "markdown",
   "id": "90aabe34-51eb-40f9-8908-4410cc7f47f6",
   "metadata": {},
   "source": [
    "- NumPy: for numerical computing in Python\n",
    "- Pandas: for data manipulation and analysis in Python\n",
    "- Matplotlib: for data visualization in Python\n",
    "- Scikit-learn: for machine learning in Python\n",
    "- TensorFlow: for deep learning in Python\n",
    "- PyTorch: for deep learning in Python\n",
    "- Keras: for building neural networks in Python\n",
    "- ggplot2: for data visualization in R\n",
    "- dplyr: for data manipulation and analysis in R\n",
    "- caret: for machine learning in R"
   ]
  },
  {
   "cell_type": "markdown",
   "id": "bfccbca8-7526-4910-9dd5-df95e452aa9c",
   "metadata": {},
   "source": [
    "## Data Science tools"
   ]
  },
  {
   "cell_type": "markdown",
   "id": "7d433a98-73cb-42ac-83a7-1a8804eba415",
   "metadata": {},
   "source": [
    "- Jupyter Notebook\n",
    "- Tableau\n",
    "- Apache Hadoop\n",
    "- Apache Spark"
   ]
  },
  {
   "cell_type": "markdown",
   "id": "313f40e0-361d-4e04-8166-004a62832f49",
   "metadata": {},
   "source": [
    "## Arithmetic expression example"
   ]
  },
  {
   "cell_type": "markdown",
   "id": "434e50e8-0129-46da-a0bb-a4a4d2e5fa22",
   "metadata": {},
   "source": [
    "2 + 3: In this expression, the + operator is used to add the numbers 2 and 3 together, resulting in the value 5.\n"
   ]
  },
  {
   "cell_type": "markdown",
   "id": "be503529-6a86-44dc-902b-bc89cbff8e71",
   "metadata": {},
   "source": [
    "## A code cell to multiply and add numbers"
   ]
  },
  {
   "cell_type": "code",
   "execution_count": 3,
   "id": "ef727c6d-b6bc-472f-9e75-2a02b659bbe1",
   "metadata": {},
   "outputs": [
    {
     "name": "stdout",
     "output_type": "stream",
     "text": [
      "Multiplication Result: 6\n",
      "Addition Result: 5\n"
     ]
    }
   ],
   "source": [
    "# Define two variables\n",
    "a = 2\n",
    "b = 3\n",
    "\n",
    "# Multiply the variables together and store the result in a new variable\n",
    "c = a * b\n",
    "\n",
    "# Add the variables together and store the result in a new variable\n",
    "d = a + b\n",
    "\n",
    "# Print the results\n",
    "print(\"Multiplication Result:\", c)\n",
    "print(\"Addition Result:\", d)"
   ]
  },
  {
   "cell_type": "markdown",
   "id": "ce2c6e41-2b86-45f1-ba4b-7ad78bda7a72",
   "metadata": {},
   "source": [
    "## A code cell to convert minutes to hours"
   ]
  },
  {
   "cell_type": "code",
   "execution_count": 4,
   "id": "e4ac8139-261f-48ac-b362-3cd3c576018b",
   "metadata": {},
   "outputs": [
    {
     "name": "stdout",
     "output_type": "stream",
     "text": [
      "120 minutes is equal to 2 hours\n"
     ]
    }
   ],
   "source": [
    "# Define a variable for the number of minutes\n",
    "minutes = 120\n",
    "\n",
    "# Convert the minutes to hours using integer division\n",
    "hours = minutes // 60\n",
    "\n",
    "# Print the result\n",
    "print(minutes, \"minutes is equal to\", hours, \"hours\")\n"
   ]
  },
  {
   "cell_type": "markdown",
   "id": "7c733fc2-f4d1-4afa-a42f-3f217b14fb09",
   "metadata": {},
   "source": [
    "## Objectives"
   ]
  },
  {
   "cell_type": "markdown",
   "id": "246ea620-01fb-455d-8f1a-628ff37b3c99",
   "metadata": {},
   "source": [
    "Data science is a field that involves using data to gain insights and make informed decisions. To become proficient in data science, individuals should aim to develop a deep understanding of statistics and probability, become proficient in programming languages such as Python or R, master machine learning algorithms, and understand data visualization tools. Additionally, knowledge of data ethics and privacy is important in the field. By achieving these objectives, individuals can use their skills to make data-driven decisions in various industries."
   ]
  },
  {
   "cell_type": "markdown",
   "id": "329d68e5-3c1d-4373-bcca-5f70b46df866",
   "metadata": {},
   "source": [
    "## Author’s name"
   ]
  },
  {
   "cell_type": "markdown",
   "id": "b0c032d5-11d7-49c0-8c77-652c24ac3d19",
   "metadata": {},
   "source": [
    "Kaushik Ghosh"
   ]
  },
  {
   "cell_type": "code",
   "execution_count": null,
   "id": "4d134eb8-34f7-4101-9b6b-e92b891c23d7",
   "metadata": {},
   "outputs": [],
   "source": []
  }
 ],
 "metadata": {
  "kernelspec": {
   "display_name": "Python",
   "language": "python",
   "name": "conda-env-python-py"
  },
  "language_info": {
   "codemirror_mode": {
    "name": "ipython",
    "version": 3
   },
   "file_extension": ".py",
   "mimetype": "text/x-python",
   "name": "python",
   "nbconvert_exporter": "python",
   "pygments_lexer": "ipython3",
   "version": "3.7.12"
  }
 },
 "nbformat": 4,
 "nbformat_minor": 5
}
