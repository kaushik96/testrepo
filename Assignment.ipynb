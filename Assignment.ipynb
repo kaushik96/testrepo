{
 "cells": [
  {
   "cell_type": "markdown",
   "id": "93cec57b-46a9-46db-a1ac-79c2da272e39",
   "metadata": {},
   "source": [
    "# My Jupyter Notebook on IBM Watson Studio"
   ]
  },
  {
   "cell_type": "markdown",
   "id": "d39edf1f-52ad-43e3-9847-d0b21c8fd76f",
   "metadata": {},
   "source": [
    "**Kaushik Ghosh**"
   ]
  },
  {
   "cell_type": "markdown",
   "id": "ad412f42-0ef4-423f-b3f1-fce3bdc8fd8d",
   "metadata": {},
   "source": [
    "Data Scientist"
   ]
  },
  {
   "cell_type": "markdown",
   "id": "34ad0d8e-a521-43c4-b55a-5b1c8b4f221d",
   "metadata": {},
   "source": [
    "*I am interested in data science because I would love to contribute towards the affordable and quality education in the future.*"
   ]
  },
  {
   "cell_type": "markdown",
   "id": "0dc52cbb-1bf6-4b8d-b293-287abb9277c4",
   "metadata": {},
   "source": [
    "### The below should print 'Hello World!!'"
   ]
  },
  {
   "cell_type": "code",
   "execution_count": 1,
   "id": "ab60fa50-287c-4e90-a4c9-13a80ac89b1d",
   "metadata": {},
   "outputs": [
    {
     "name": "stdout",
     "output_type": "stream",
     "text": [
      "Hello World!!\n"
     ]
    }
   ],
   "source": [
    "print(\"Hello World!!\")"
   ]
  },
  {
   "cell_type": "markdown",
   "id": "9c15fb1d-af34-46e9-b8e5-ad07e64873c1",
   "metadata": {},
   "source": [
    "<a href=\"https://dataplatform.cloud.ibm.com/gallery\">IBM Cloud Gallery</a> \n",
    "| Name | Age | Height | Weight |\n",
    "| ---- | --- | ------ | ------ |\n",
    "| a | 15 | 5 | 50 |\n",
    "| b | 25 | 6 | 65 |\n",
    "| c | 45 | 5.5 | 56 |\n",
    "- Sunday\n",
    "- Monday\n",
    "- Tuesday\n",
    "- Wednesday\n",
    "- Thursday\n",
    "- Friday\n",
    "- Saturday"
   ]
  },
  {
   "cell_type": "code",
   "execution_count": null,
   "id": "175f7ee5-4744-45c5-acc2-9be760c96b95",
   "metadata": {},
   "outputs": [],
   "source": []
  }
 ],
 "metadata": {
  "kernelspec": {
   "display_name": "Python",
   "language": "python",
   "name": "conda-env-python-py"
  },
  "language_info": {
   "codemirror_mode": {
    "name": "ipython",
    "version": 3
   },
   "file_extension": ".py",
   "mimetype": "text/x-python",
   "name": "python",
   "nbconvert_exporter": "python",
   "pygments_lexer": "ipython3",
   "version": "3.7.12"
  }
 },
 "nbformat": 4,
 "nbformat_minor": 5
}
